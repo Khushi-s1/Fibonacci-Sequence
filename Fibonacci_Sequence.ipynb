{
  "nbformat": 4,
  "nbformat_minor": 0,
  "metadata": {
    "colab": {
      "provenance": []
    },
    "kernelspec": {
      "name": "python3",
      "display_name": "Python 3"
    },
    "language_info": {
      "name": "python"
    }
  },
  "cells": [
    {
      "cell_type": "markdown",
      "source": [
        "Level-2 Task-4 Fibonacci Sequence\n",
        "\n",
        "Write a Python function that generates the Fibonacci sequence up to a given number of terms."
      ],
      "metadata": {
        "id": "EkSD9Uz7PUVk"
      }
    },
    {
      "cell_type": "code",
      "execution_count": 1,
      "metadata": {
        "id": "YsY35H2aOaYm"
      },
      "outputs": [],
      "source": [
        "def generate_fibonacci_sequence(num_terms):\n",
        "    # Initialize first two terms of the Fibonacci sequence\n",
        "    fib_sequence = [0, 1]\n",
        "\n",
        "    # Generate Fibonacci sequence\n",
        "    for i in range(2, num_terms):\n",
        "        next_term = fib_sequence[-1] + fib_sequence[-2]\n",
        "        fib_sequence.append(next_term)\n",
        "\n",
        "    return fib_sequence"
      ]
    },
    {
      "cell_type": "code",
      "source": [
        "def main():\n",
        "    try:\n",
        "        num_terms = int(input(\"Enter the number of terms for Fibonacci sequence: \"))\n",
        "\n",
        "        if num_terms <= 0:\n",
        "            print(\"Please enter a positive integer.\")\n",
        "            return\n",
        "\n",
        "        fibonacci_sequence = generate_fibonacci_sequence(num_terms)\n",
        "\n",
        "        print(f\"Fibonacci sequence up to {num_terms} terms:\")\n",
        "        print(fibonacci_sequence)\n",
        "\n",
        "    except ValueError:\n",
        "        print(\"Invalid input. Please enter a valid integer.\")\n"
      ],
      "metadata": {
        "id": "o58MVC3nOwJB"
      },
      "execution_count": 2,
      "outputs": []
    },
    {
      "cell_type": "code",
      "source": [
        "if __name__ == \"__main__\":\n",
        "    main()"
      ],
      "metadata": {
        "colab": {
          "base_uri": "https://localhost:8080/"
        },
        "id": "3Ldz84VXO19v",
        "outputId": "eb70266a-4140-4a67-cdcb-49fac5fd6bd1"
      },
      "execution_count": 3,
      "outputs": [
        {
          "output_type": "stream",
          "name": "stdout",
          "text": [
            "Enter the number of terms for Fibonacci sequence: 11\n",
            "Fibonacci sequence up to 11 terms:\n",
            "[0, 1, 1, 2, 3, 5, 8, 13, 21, 34, 55]\n"
          ]
        }
      ]
    }
  ]
}